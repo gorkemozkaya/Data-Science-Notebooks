{
 "cells": [
  {
   "cell_type": "markdown",
   "metadata": {},
   "source": [
    "## Predictive modeling with Tweedie distributed response  \n",
    "*Gorkem Ozkaya*\n",
    "\n",
    "In this notebook we generate data according to the linear Tweedie model with a log link. Then we compare three predictive models: \n",
    "* Tweedie GLM with the `cplm` package\n",
    "* Gradient boosting with the `xgboost` package, using the `reg:tweedie` objective, where the loss is likelihood of the mean for Tweedie distribution\n",
    "* Gradient boosting with the `xgboost` package, using the `reg:linear` objective, where the loss is simple least squares"
   ]
  },
  {
   "cell_type": "code",
   "execution_count": 1,
   "metadata": {
    "collapsed": false
   },
   "outputs": [
    {
     "name": "stderr",
     "output_type": "stream",
     "text": [
      "Warning message:\n",
      ": package ‘cplm’ was built under R version 3.3.2Loading required package: coda\n",
      "Warning message:\n",
      ": package ‘coda’ was built under R version 3.3.2Loading required package: Matrix\n",
      "Loading required package: splines\n"
     ]
    }
   ],
   "source": [
    "library(tweedie)\n",
    "library(cplm)\n",
    "library(xgboost)"
   ]
  },
  {
   "cell_type": "markdown",
   "metadata": {},
   "source": [
    "Function that generates data according to the linear model: "
   ]
  },
  {
   "cell_type": "code",
   "execution_count": 2,
   "metadata": {
    "collapsed": true
   },
   "outputs": [],
   "source": [
    "gen_data <- function (N = 10000, p = 1.5, phi=100) {\n",
    "  var1 <- rnorm(N)\n",
    "  var2 <- rnorm(N)\n",
    "  var3 <- rnorm(N)\n",
    "  y <- exp(7 + 0.1*var1 + 0.2*var2 - 0.3*var3)\n",
    "  \n",
    "  resp = rep(0, N)\n",
    "  \n",
    "  for (i in 1:N) {\n",
    "    resp[i] <- rtweedie(1, xi = p, mu = y[i], phi=phi )\n",
    "  }\n",
    "  \n",
    "  return(data.frame(var1, var2, var3, mu=y, resp))\n",
    "}"
   ]
  },
  {
   "cell_type": "markdown",
   "metadata": {},
   "source": [
    "### Generating training and test sets"
   ]
  },
  {
   "cell_type": "code",
   "execution_count": 3,
   "metadata": {
    "collapsed": true
   },
   "outputs": [],
   "source": [
    "dt <- gen_data()\n",
    "dt_test <- gen_data()\n",
    "\n",
    "# for xgboost models\n",
    "d_train <- xgb.DMatrix(data = as.matrix(dt[, c(\"var1\", \"var2\", \"var3\")]), label = dt$resp, missing = NA)\n",
    "d_test <- xgb.DMatrix(data = as.matrix(dt_test[, c(\"var1\", \"var2\", \"var3\")]), label = dt_test$resp, missing = NA)"
   ]
  },
  {
   "cell_type": "markdown",
   "metadata": {},
   "source": [
    "### Tweedie GLM"
   ]
  },
  {
   "cell_type": "code",
   "execution_count": 4,
   "metadata": {
    "collapsed": false
   },
   "outputs": [],
   "source": [
    "model_glm <- cpglm(resp ~ var1+var2+var3, data=dt, optimizer=\"bobyqa\")\n",
    "\n",
    "y_hat_glm <- predict(model_glm, dt_test[, c(\"var1\", \"var2\", \"var3\")])"
   ]
  },
  {
   "cell_type": "markdown",
   "metadata": {},
   "source": [
    "### XGBoost with Tweedie objective"
   ]
  },
  {
   "cell_type": "code",
   "execution_count": 5,
   "metadata": {
    "collapsed": false
   },
   "outputs": [
    {
     "name": "stdout",
     "output_type": "stream",
     "text": [
      "[1]\ttrain-rmse:2434.154053\ttest-rmse:2363.083252 \n",
      "[51]\ttrain-rmse:2432.750000\ttest-rmse:2361.693115 \n",
      "[101]\ttrain-rmse:2429.011963\ttest-rmse:2358.010254 \n",
      "[151]\ttrain-rmse:2419.379639\ttest-rmse:2348.615234 \n",
      "[201]\ttrain-rmse:2396.393555\ttest-rmse:2326.561035 \n",
      "[251]\ttrain-rmse:2349.364014\ttest-rmse:2282.937500 \n",
      "[301]\ttrain-rmse:2273.946045\ttest-rmse:2217.568848 \n",
      "[351]\ttrain-rmse:2183.551514\ttest-rmse:2148.278076 \n",
      "[401]\ttrain-rmse:2099.968750\ttest-rmse:2096.677734 \n",
      "[451]\ttrain-rmse:2034.676758\ttest-rmse:2068.325195 \n",
      "[501]\ttrain-rmse:1988.494629\ttest-rmse:2056.002930 \n",
      "[551]\ttrain-rmse:1955.826294\ttest-rmse:2051.948486 \n",
      "[601]\ttrain-rmse:1933.223145\ttest-rmse:2050.793213 \n",
      "[651]\ttrain-rmse:1915.505981\ttest-rmse:2050.909424 \n",
      "[701]\ttrain-rmse:1902.271729\ttest-rmse:2051.531982 \n",
      "[751]\ttrain-rmse:1892.087158\ttest-rmse:2052.246094 \n",
      "[801]\ttrain-rmse:1883.345703\ttest-rmse:2053.188232 \n",
      "[851]\ttrain-rmse:1875.134644\ttest-rmse:2053.934082 \n",
      "[901]\ttrain-rmse:1866.986572\ttest-rmse:2054.508057 \n",
      "[951]\ttrain-rmse:1858.690552\ttest-rmse:2055.352539 \n",
      "[1000]\ttrain-rmse:1851.650513\ttest-rmse:2055.620605 \n"
     ]
    }
   ],
   "source": [
    "params_tweedie <- list(\n",
    "  objective = 'reg:tweedie',\n",
    "  eval_metric = 'rmse', \n",
    "  tweedie_variance_power = 1.5,\n",
    "  max_depth = 6,\n",
    "  eta = 0.01)\n",
    "\n",
    "\n",
    "bst_tweedie <- xgb.train(\n",
    "  data = d_train, \n",
    "  params = params_tweedie, \n",
    "  maximize = FALSE,\n",
    "  watchlist = list(train = d_train, test=d_test), \n",
    "  nrounds = 1000,\n",
    "  print_every_n = 50)\n",
    "\n",
    "\n",
    "y_hat_xgb_tweedie <- predict(bst_tweedie, d_test)"
   ]
  },
  {
   "cell_type": "markdown",
   "metadata": {},
   "source": [
    "### XGBoost with Least squares objective"
   ]
  },
  {
   "cell_type": "code",
   "execution_count": 6,
   "metadata": {
    "collapsed": false
   },
   "outputs": [
    {
     "name": "stdout",
     "output_type": "stream",
     "text": [
      "[1]\ttrain-rmse:2427.306885\ttest-rmse:2357.136719 \n",
      "[51]\ttrain-rmse:2172.122314\ttest-rmse:2149.021484 \n",
      "[101]\ttrain-rmse:2051.062012\ttest-rmse:2072.892578 \n",
      "[151]\ttrain-rmse:1988.768799\ttest-rmse:2049.608398 \n",
      "[201]\ttrain-rmse:1953.366211\ttest-rmse:2044.666260 \n",
      "[251]\ttrain-rmse:1931.090088\ttest-rmse:2044.839233 \n",
      "[301]\ttrain-rmse:1915.889771\ttest-rmse:2046.154785 \n",
      "[351]\ttrain-rmse:1899.971924\ttest-rmse:2048.905762 \n",
      "[401]\ttrain-rmse:1885.940796\ttest-rmse:2051.149902 \n",
      "[451]\ttrain-rmse:1872.962769\ttest-rmse:2052.896484 \n",
      "[501]\ttrain-rmse:1863.371216\ttest-rmse:2054.953125 \n",
      "[551]\ttrain-rmse:1854.415283\ttest-rmse:2056.223877 \n",
      "[601]\ttrain-rmse:1845.067139\ttest-rmse:2057.261230 \n",
      "[651]\ttrain-rmse:1836.041260\ttest-rmse:2058.142578 \n",
      "[701]\ttrain-rmse:1827.057129\ttest-rmse:2059.070068 \n",
      "[751]\ttrain-rmse:1817.310669\ttest-rmse:2060.233643 \n",
      "[801]\ttrain-rmse:1808.161621\ttest-rmse:2061.356201 \n",
      "[851]\ttrain-rmse:1799.128540\ttest-rmse:2062.604248 \n",
      "[901]\ttrain-rmse:1790.119873\ttest-rmse:2063.698975 \n",
      "[951]\ttrain-rmse:1782.079590\ttest-rmse:2064.986572 \n",
      "[1000]\ttrain-rmse:1772.241821\ttest-rmse:2066.351318 \n"
     ]
    }
   ],
   "source": [
    "params_tweedie <- list(\n",
    "  objective = 'reg:linear',\n",
    "  eval_metric = 'rmse', \n",
    "  tweedie_variance_power = 1.5,\n",
    "  max_depth = 6,\n",
    "  eta = 0.01)\n",
    "\n",
    "\n",
    "bst_leastsq <- xgb.train(\n",
    "  data = d_train, \n",
    "  params = params_tweedie, \n",
    "  maximize = FALSE,\n",
    "  watchlist = list(train = d_train, test=d_test), \n",
    "  nrounds = 1000,\n",
    "  print_every_n = 50)\n",
    "\n",
    "\n",
    "y_hat_xgb_leastsq <- predict(bst_leastsq, d_test)"
   ]
  },
  {
   "cell_type": "markdown",
   "metadata": {},
   "source": [
    "### Comparing the results of the three models\n",
    "Now we compare the model performances on the test sets using Gini indices, which is one of the standard performance measures in insurance:"
   ]
  },
  {
   "cell_type": "code",
   "execution_count": 7,
   "metadata": {
    "collapsed": false
   },
   "outputs": [
    {
     "data": {
      "text/plain": [
       "\n",
       "Call:\n",
       "gini(loss = \"y\", score = c(\"glm\", \"xgb_tweedie\", \"xgb_leastsq\"), \n",
       "    base = NULL, data = df_gini)\n",
       "\n",
       "Gini indices:\n",
       "             glm       xgb_tweedie  xgb_leastsq\n",
       "glm           0.00000   0.17174     -0.06209   \n",
       "xgb_tweedie  15.61175   0.00000      8.08790   \n",
       "xgb_leastsq  14.46925   5.17869      0.00000   \n",
       "\n",
       "Standard errors:\n",
       "             glm    xgb_tweedie  xgb_leastsq\n",
       "glm          0.000  1.058        1.055      \n",
       "xgb_tweedie  1.092  0.000        1.101      \n",
       "xgb_leastsq  1.052  1.070        0.000      \n",
       "\n",
       "The selected score is glm."
      ]
     },
     "metadata": {},
     "output_type": "display_data"
    }
   ],
   "source": [
    "df_gini <- data.frame(y = dt_test$resp, glm = y_hat_glm, xgb_tweedie = y_hat_xgb_tweedie, xgb_leastsq = y_hat_xgb_leastsq)\n",
    "df_gini$base = mean(df_gini$y)\n",
    "gini(loss = \"y\" , score = c(\"glm\", \"xgb_tweedie\", \"xgb_leastsq\"), base = NULL, data=df_gini)"
   ]
  },
  {
   "cell_type": "markdown",
   "metadata": {
    "collapsed": true
   },
   "source": [
    "### Discussion\n",
    "Looking at the Gini indices, we see that GLM performs the best.  This is expected, because we generated the data completely in accordance with the GLM Tweedie model assumptions.  \n",
    "\n",
    "On the other hand, when we compare the XGBoost performances, we see no significant difference between using  *least squares* versus *Tweedie* objectives. "
   ]
  }
 ],
 "metadata": {
  "kernelspec": {
   "display_name": "R",
   "language": "R",
   "name": "ir"
  },
  "language_info": {
   "codemirror_mode": "r",
   "file_extension": ".r",
   "mimetype": "text/x-r-source",
   "name": "R",
   "pygments_lexer": "r",
   "version": "3.3.1"
  }
 },
 "nbformat": 4,
 "nbformat_minor": 0
}
